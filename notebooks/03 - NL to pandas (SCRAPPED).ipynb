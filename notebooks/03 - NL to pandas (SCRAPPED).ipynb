{
 "cells": [
  {
   "cell_type": "code",
   "execution_count": 2,
   "id": "4fb4fa7c",
   "metadata": {},
   "outputs": [],
   "source": [
    "import pandas as pd \n",
    "import os\n",
    "import openai\n",
    "import json\n",
    "\n",
    "# remove column restrictions\n",
    "pd.set_option('display.max_columns', None)\n",
    "\n",
    "# supress scientific notation\n",
    "pd.set_option('display.float_format', lambda x: '%.3f' % x)"
   ]
  },
  {
   "cell_type": "markdown",
   "id": "2845be49",
   "metadata": {},
   "source": [
    "### Load parquet into df"
   ]
  },
  {
   "cell_type": "code",
   "execution_count": 3,
   "id": "a8a399b7",
   "metadata": {},
   "outputs": [
    {
     "name": "stdout",
     "output_type": "stream",
     "text": [
      "Loading data from ../data/processed/trade_data_cleaned.parquet\n",
      "Columns in the DataFrame:\n",
      "['freqcode', 'refperiodid', 'refmonth', 'period', 'reportercode', 'reporteriso', 'reporterdesc', 'flowcode', 'flowdesc', 'partnercode', 'partneriso', 'partner2desc', 'netwgt', 'isgrosswgtestimated', 'cifvalue', 'fobvalue', 'primaryvalue']\n",
      "Data loaded with shape: (383526, 17)\n"
     ]
    },
    {
     "data": {
      "text/html": [
       "<div>\n",
       "<style scoped>\n",
       "    .dataframe tbody tr th:only-of-type {\n",
       "        vertical-align: middle;\n",
       "    }\n",
       "\n",
       "    .dataframe tbody tr th {\n",
       "        vertical-align: top;\n",
       "    }\n",
       "\n",
       "    .dataframe thead th {\n",
       "        text-align: right;\n",
       "    }\n",
       "</style>\n",
       "<table border=\"1\" class=\"dataframe\">\n",
       "  <thead>\n",
       "    <tr style=\"text-align: right;\">\n",
       "      <th></th>\n",
       "      <th>freqcode</th>\n",
       "      <th>refperiodid</th>\n",
       "      <th>refmonth</th>\n",
       "      <th>period</th>\n",
       "      <th>reportercode</th>\n",
       "      <th>reporteriso</th>\n",
       "      <th>reporterdesc</th>\n",
       "      <th>flowcode</th>\n",
       "      <th>flowdesc</th>\n",
       "      <th>partnercode</th>\n",
       "      <th>partneriso</th>\n",
       "      <th>partner2desc</th>\n",
       "      <th>netwgt</th>\n",
       "      <th>isgrosswgtestimated</th>\n",
       "      <th>cifvalue</th>\n",
       "      <th>fobvalue</th>\n",
       "      <th>primaryvalue</th>\n",
       "    </tr>\n",
       "  </thead>\n",
       "  <tbody>\n",
       "    <tr>\n",
       "      <th>0</th>\n",
       "      <td>20190101</td>\n",
       "      <td>2019</td>\n",
       "      <td>2019</td>\n",
       "      <td>4</td>\n",
       "      <td>AFG</td>\n",
       "      <td>Afghanistan</td>\n",
       "      <td>M</td>\n",
       "      <td>Import</td>\n",
       "      <td>0</td>\n",
       "      <td>W00</td>\n",
       "      <td>World</td>\n",
       "      <td>H4</td>\n",
       "      <td>True</td>\n",
       "      <td>8568013876.870</td>\n",
       "      <td>0.000</td>\n",
       "      <td>8568013876.870</td>\n",
       "      <td>4</td>\n",
       "    </tr>\n",
       "    <tr>\n",
       "      <th>1</th>\n",
       "      <td>20190101</td>\n",
       "      <td>2019</td>\n",
       "      <td>2019</td>\n",
       "      <td>4</td>\n",
       "      <td>AFG</td>\n",
       "      <td>Afghanistan</td>\n",
       "      <td>M</td>\n",
       "      <td>Import</td>\n",
       "      <td>16</td>\n",
       "      <td>ASM</td>\n",
       "      <td>American Samoa</td>\n",
       "      <td>H4</td>\n",
       "      <td>True</td>\n",
       "      <td>614220.560</td>\n",
       "      <td>0.000</td>\n",
       "      <td>614220.560</td>\n",
       "      <td>4</td>\n",
       "    </tr>\n",
       "    <tr>\n",
       "      <th>2</th>\n",
       "      <td>20190101</td>\n",
       "      <td>2019</td>\n",
       "      <td>2019</td>\n",
       "      <td>4</td>\n",
       "      <td>AFG</td>\n",
       "      <td>Afghanistan</td>\n",
       "      <td>M</td>\n",
       "      <td>Import</td>\n",
       "      <td>20</td>\n",
       "      <td>AND</td>\n",
       "      <td>Andorra</td>\n",
       "      <td>H4</td>\n",
       "      <td>True</td>\n",
       "      <td>122809.390</td>\n",
       "      <td>0.000</td>\n",
       "      <td>122809.390</td>\n",
       "      <td>4</td>\n",
       "    </tr>\n",
       "    <tr>\n",
       "      <th>3</th>\n",
       "      <td>20190101</td>\n",
       "      <td>2019</td>\n",
       "      <td>2019</td>\n",
       "      <td>4</td>\n",
       "      <td>AFG</td>\n",
       "      <td>Afghanistan</td>\n",
       "      <td>M</td>\n",
       "      <td>Import</td>\n",
       "      <td>31</td>\n",
       "      <td>AZE</td>\n",
       "      <td>Azerbaijan</td>\n",
       "      <td>H4</td>\n",
       "      <td>True</td>\n",
       "      <td>48473684.350</td>\n",
       "      <td>0.000</td>\n",
       "      <td>48473684.350</td>\n",
       "      <td>4</td>\n",
       "    </tr>\n",
       "    <tr>\n",
       "      <th>4</th>\n",
       "      <td>20190101</td>\n",
       "      <td>2019</td>\n",
       "      <td>2019</td>\n",
       "      <td>4</td>\n",
       "      <td>AFG</td>\n",
       "      <td>Afghanistan</td>\n",
       "      <td>M</td>\n",
       "      <td>Import</td>\n",
       "      <td>32</td>\n",
       "      <td>ARG</td>\n",
       "      <td>Argentina</td>\n",
       "      <td>H4</td>\n",
       "      <td>False</td>\n",
       "      <td>257396.170</td>\n",
       "      <td>0.000</td>\n",
       "      <td>257396.170</td>\n",
       "      <td>0</td>\n",
       "    </tr>\n",
       "  </tbody>\n",
       "</table>\n",
       "</div>"
      ],
      "text/plain": [
       "   freqcode  refperiodid  refmonth  period reportercode  reporteriso  \\\n",
       "0  20190101         2019      2019       4          AFG  Afghanistan   \n",
       "1  20190101         2019      2019       4          AFG  Afghanistan   \n",
       "2  20190101         2019      2019       4          AFG  Afghanistan   \n",
       "3  20190101         2019      2019       4          AFG  Afghanistan   \n",
       "4  20190101         2019      2019       4          AFG  Afghanistan   \n",
       "\n",
       "  reporterdesc flowcode  flowdesc partnercode      partneriso partner2desc  \\\n",
       "0            M   Import         0         W00           World           H4   \n",
       "1            M   Import        16         ASM  American Samoa           H4   \n",
       "2            M   Import        20         AND         Andorra           H4   \n",
       "3            M   Import        31         AZE      Azerbaijan           H4   \n",
       "4            M   Import        32         ARG       Argentina           H4   \n",
       "\n",
       "   netwgt  isgrosswgtestimated  cifvalue       fobvalue  primaryvalue  \n",
       "0    True       8568013876.870     0.000 8568013876.870             4  \n",
       "1    True           614220.560     0.000     614220.560             4  \n",
       "2    True           122809.390     0.000     122809.390             4  \n",
       "3    True         48473684.350     0.000   48473684.350             4  \n",
       "4   False           257396.170     0.000     257396.170             0  "
      ]
     },
     "metadata": {},
     "output_type": "display_data"
    }
   ],
   "source": [
    "processed_data_path = '../data/processed/trade_data_cleaned.parquet'\n",
    "\n",
    "print(f'Loading data from {processed_data_path}')\n",
    "df = pd.read_parquet(processed_data_path)\n",
    "\n",
    "print(\"Columns in the DataFrame:\")\n",
    "print(df.columns.tolist())\n",
    "print(f'Data loaded with shape: {df.shape}')\n",
    "display(df.head())"
   ]
  },
  {
   "cell_type": "markdown",
   "id": "40c3784e",
   "metadata": {},
   "source": [
    "### Define system prompt"
   ]
  },
  {
   "cell_type": "code",
   "execution_count": null,
   "id": "5c871cf8",
   "metadata": {},
   "outputs": [],
   "source": [
    "SYSTEM_PROMPT = \"\"\" \n",
    "You are a trade data analyst.\n",
    "Return ONLY valid JSON with these keys:\n",
    "filter   – boolean condition in plain English\n",
    "  groupby  – list of columns\n",
    "  agg      – {column: aggfunc}\n",
    "  stats    – {stat_name: [columns]}       # e.g. \"corr\": [\"value\",\"netwgt\"], or \"describe\": [\"value\"]\n",
    "  sort     – optional {by: col, ascending: bool}\n",
    "  top_n    – optional int\n",
    "  chart    – \"bar\" | \"line\" | null\n",
    "\n",
    "  Columns you may reference:\n",
    "  shipper, consignee, description,\n",
    "  value, period, reporterdesc, partnerdesc.\n",
    "\"\"\"\n"
   ]
  },
  {
   "cell_type": "code",
   "execution_count": null,
   "id": "5fe698e7",
   "metadata": {},
   "outputs": [],
   "source": [
    "from openai import OpenAI\n",
    "client = OpenAI()\n",
    "\n",
    "question = \"What is the total value of shipments by shipper in 2023?\"\n",
    "\n",
    "resp = client.chat.completions.create(\n",
    "    model=\"gpt-4\",\n",
    "    messages=[\n",
    "        {\"role\": \"system\", \"content\": SYSTEM_PROMPT},\n",
    "        {\"role\": \"user\", \"content\": question}\n",
    "    ],\n",
    "    temperature=0.0,\n",
    "    )\n",
    "\n",
    "plan_text = resp.choices[0].message.content\n",
    "print(f\"Plan text: {plan_text}\")\n",
    "\n",
    "# parse to dict\n",
    "plan = json.loads(plan_text)\n",
    "print(f\"Plan dict: {plan}\")"
   ]
  },
  {
   "cell_type": "code",
   "execution_count": null,
   "id": "40c1d6a2",
   "metadata": {},
   "outputs": [],
   "source": [
    "question = \"Show me the correlation between value and netwgt for 2022.\"\n",
    "resp = client.chat.completions.create(\n",
    "    model=\"gpt-4\",\n",
    "    messages=[\n",
    "        {\"role\": \"system\", \"content\": SYSTEM_PROMPT},\n",
    "        {\"role\": \"user\", \"content\": question}\n",
    "    ],\n",
    "    temperature=0.0,\n",
    ")\n",
    "plan_text = resp.choices[0].message.content\n",
    "print(f\"Plan text: {plan_text}\")\n",
    "\n",
    "# parse to dict\n",
    "plan = json.loads(plan_text)\n",
    "print(f\"Plan dict: {plan}\")"
   ]
  },
  {
   "cell_type": "markdown",
   "id": "23008e31",
   "metadata": {},
   "source": [
    "### Test utils"
   ]
  },
  {
   "cell_type": "code",
   "execution_count": 1,
   "id": "1910912b",
   "metadata": {},
   "outputs": [
    {
     "name": "stdout",
     "output_type": "stream",
     "text": [
      "LLM response: {\n",
      "  \"filter\": \"period == 2023\",\n",
      "  \"groupby\": [\"reporterdesc\"],\n",
      "  \"agg\": {\"value\": \"sum\"},\n",
      "  \"sort\": {\"by\": \"value\", \"ascending\": false},\n",
      "  \"top_n\": 1,\n",
      "  \"chart\": null\n",
      "}\n"
     ]
    },
    {
     "ename": "TypeError",
     "evalue": "dtype 'period    int64\nperiod    int64\ndtype: object' not understood",
     "output_type": "error",
     "traceback": [
      "\u001b[31m---------------------------------------------------------------------------\u001b[39m",
      "\u001b[31mTypeError\u001b[39m                                 Traceback (most recent call last)",
      "\u001b[36mCell\u001b[39m\u001b[36m \u001b[39m\u001b[32mIn[1]\u001b[39m\u001b[32m, line 4\u001b[39m\n\u001b[32m      1\u001b[39m \u001b[38;5;28;01mfrom\u001b[39;00m\u001b[38;5;250m \u001b[39m\u001b[34;01mapp\u001b[39;00m\u001b[34;01m.\u001b[39;00m\u001b[34;01mutils\u001b[39;00m\u001b[38;5;250m \u001b[39m\u001b[38;5;28;01mimport\u001b[39;00m answer\n\u001b[32m      3\u001b[39m question = \u001b[33m\"\u001b[39m\u001b[33mWhich country has the highest total value of shipments in 2023?\u001b[39m\u001b[33m\"\u001b[39m\n\u001b[32m----> \u001b[39m\u001b[32m4\u001b[39m out = \u001b[43manswer\u001b[49m\u001b[43m(\u001b[49m\u001b[43mquestion\u001b[49m\u001b[43m=\u001b[49m\u001b[43m \u001b[49m\u001b[43mquestion\u001b[49m\u001b[43m)\u001b[49m\n",
      "\u001b[36mFile \u001b[39m\u001b[32m~/Desktop/Learning/CAPSTONE PROJECTS/ask_my_shipment/app/utils.py:116\u001b[39m, in \u001b[36manswer\u001b[39m\u001b[34m(question)\u001b[39m\n\u001b[32m    113\u001b[39m plan = _call_llm_for_plan(question)\n\u001b[32m    115\u001b[39m \u001b[38;5;66;03m# 2. Execute the plan on the DataFrame\u001b[39;00m\n\u001b[32m--> \u001b[39m\u001b[32m116\u001b[39m frame = \u001b[43m_execute_plan\u001b[49m\u001b[43m(\u001b[49m\u001b[43mdf\u001b[49m\u001b[43m,\u001b[49m\u001b[43m \u001b[49m\u001b[43mplan\u001b[49m\u001b[43m)\u001b[49m\n\u001b[32m    118\u001b[39m \u001b[38;5;66;03m# narrative answer\u001b[39;00m\n\u001b[32m    119\u001b[39m ans = \u001b[33mf\u001b[39m\u001b[33m\"\u001b[39m\u001b[33mExecuted plan with keys: \u001b[39m\u001b[38;5;132;01m{\u001b[39;00m\u001b[33m'\u001b[39m\u001b[33m, \u001b[39m\u001b[33m'\u001b[39m.join(k\u001b[38;5;250m \u001b[39m\u001b[38;5;28;01mfor\u001b[39;00m\u001b[38;5;250m \u001b[39mk,\u001b[38;5;250m \u001b[39mv\u001b[38;5;250m \u001b[39m\u001b[38;5;129;01min\u001b[39;00m\u001b[38;5;250m \u001b[39mplan.items()\u001b[38;5;250m \u001b[39m\u001b[38;5;28;01mif\u001b[39;00m\u001b[38;5;250m \u001b[39mv)\u001b[38;5;132;01m}\u001b[39;00m\u001b[33m\"\u001b[39m\n",
      "\u001b[36mFile \u001b[39m\u001b[32m~/Desktop/Learning/CAPSTONE PROJECTS/ask_my_shipment/app/utils.py:73\u001b[39m, in \u001b[36m_execute_plan\u001b[39m\u001b[34m(df, plan)\u001b[39m\n\u001b[32m     71\u001b[39m     cond = re.sub(\u001b[33mr\u001b[39m\u001b[33m\"\u001b[39m\u001b[33m\\\u001b[39m\u001b[33mbyear\u001b[39m\u001b[33m\\\u001b[39m\u001b[33mb\u001b[39m\u001b[33m\"\u001b[39m, \u001b[33m\"\u001b[39m\u001b[33mperiod\u001b[39m\u001b[33m\"\u001b[39m, raw_cond)\n\u001b[32m     72\u001b[39m     \u001b[38;5;66;03m# now run the query\u001b[39;00m\n\u001b[32m---> \u001b[39m\u001b[32m73\u001b[39m     q = \u001b[43mq\u001b[49m\u001b[43m.\u001b[49m\u001b[43mquery\u001b[49m\u001b[43m(\u001b[49m\u001b[43mcond\u001b[49m\u001b[43m,\u001b[49m\u001b[43m \u001b[49m\u001b[43mengine\u001b[49m\u001b[43m=\u001b[49m\u001b[33;43m\"\u001b[39;49m\u001b[33;43mpython\u001b[39;49m\u001b[33;43m\"\u001b[39;49m\u001b[43m)\u001b[49m\n\u001b[32m     75\u001b[39m \u001b[38;5;66;03m# 2. groupby & agg\u001b[39;00m\n\u001b[32m     76\u001b[39m \u001b[38;5;28;01mif\u001b[39;00m gb := plan.get(\u001b[33m\"\u001b[39m\u001b[33mgroupby\u001b[39m\u001b[33m\"\u001b[39m):\n",
      "\u001b[36mFile \u001b[39m\u001b[32m~/Desktop/Learning/CAPSTONE PROJECTS/ask_my_shipment/shipment_rag_venv/lib/python3.12/site-packages/pandas/core/frame.py:4828\u001b[39m, in \u001b[36mDataFrame.query\u001b[39m\u001b[34m(self, expr, inplace, **kwargs)\u001b[39m\n\u001b[32m   4826\u001b[39m kwargs[\u001b[33m\"\u001b[39m\u001b[33mlevel\u001b[39m\u001b[33m\"\u001b[39m] = kwargs.pop(\u001b[33m\"\u001b[39m\u001b[33mlevel\u001b[39m\u001b[33m\"\u001b[39m, \u001b[32m0\u001b[39m) + \u001b[32m1\u001b[39m\n\u001b[32m   4827\u001b[39m kwargs[\u001b[33m\"\u001b[39m\u001b[33mtarget\u001b[39m\u001b[33m\"\u001b[39m] = \u001b[38;5;28;01mNone\u001b[39;00m\n\u001b[32m-> \u001b[39m\u001b[32m4828\u001b[39m res = \u001b[38;5;28;43mself\u001b[39;49m\u001b[43m.\u001b[49m\u001b[43meval\u001b[49m\u001b[43m(\u001b[49m\u001b[43mexpr\u001b[49m\u001b[43m,\u001b[49m\u001b[43m \u001b[49m\u001b[43m*\u001b[49m\u001b[43m*\u001b[49m\u001b[43mkwargs\u001b[49m\u001b[43m)\u001b[49m\n\u001b[32m   4830\u001b[39m \u001b[38;5;28;01mtry\u001b[39;00m:\n\u001b[32m   4831\u001b[39m     result = \u001b[38;5;28mself\u001b[39m.loc[res]\n",
      "\u001b[36mFile \u001b[39m\u001b[32m~/Desktop/Learning/CAPSTONE PROJECTS/ask_my_shipment/shipment_rag_venv/lib/python3.12/site-packages/pandas/core/frame.py:4948\u001b[39m, in \u001b[36mDataFrame.eval\u001b[39m\u001b[34m(self, expr, inplace, **kwargs)\u001b[39m\n\u001b[32m   4946\u001b[39m kwargs[\u001b[33m\"\u001b[39m\u001b[33mlevel\u001b[39m\u001b[33m\"\u001b[39m] = kwargs.pop(\u001b[33m\"\u001b[39m\u001b[33mlevel\u001b[39m\u001b[33m\"\u001b[39m, \u001b[32m0\u001b[39m) + \u001b[32m1\u001b[39m\n\u001b[32m   4947\u001b[39m index_resolvers = \u001b[38;5;28mself\u001b[39m._get_index_resolvers()\n\u001b[32m-> \u001b[39m\u001b[32m4948\u001b[39m column_resolvers = \u001b[38;5;28;43mself\u001b[39;49m\u001b[43m.\u001b[49m\u001b[43m_get_cleaned_column_resolvers\u001b[49m\u001b[43m(\u001b[49m\u001b[43m)\u001b[49m\n\u001b[32m   4949\u001b[39m resolvers = column_resolvers, index_resolvers\n\u001b[32m   4950\u001b[39m \u001b[38;5;28;01mif\u001b[39;00m \u001b[33m\"\u001b[39m\u001b[33mtarget\u001b[39m\u001b[33m\"\u001b[39m \u001b[38;5;129;01mnot\u001b[39;00m \u001b[38;5;129;01min\u001b[39;00m kwargs:\n",
      "\u001b[36mFile \u001b[39m\u001b[32m~/Desktop/Learning/CAPSTONE PROJECTS/ask_my_shipment/shipment_rag_venv/lib/python3.12/site-packages/pandas/core/generic.py:660\u001b[39m, in \u001b[36mNDFrame._get_cleaned_column_resolvers\u001b[39m\u001b[34m(self)\u001b[39m\n\u001b[32m    656\u001b[39m \u001b[38;5;28;01mif\u001b[39;00m \u001b[38;5;28misinstance\u001b[39m(\u001b[38;5;28mself\u001b[39m, ABCSeries):\n\u001b[32m    657\u001b[39m     \u001b[38;5;28;01mreturn\u001b[39;00m {clean_column_name(\u001b[38;5;28mself\u001b[39m.name): \u001b[38;5;28mself\u001b[39m}\n\u001b[32m    659\u001b[39m \u001b[38;5;28;01mreturn\u001b[39;00m {\n\u001b[32m--> \u001b[39m\u001b[32m660\u001b[39m     clean_column_name(k): \u001b[43mSeries\u001b[49m\u001b[43m(\u001b[49m\n\u001b[32m    661\u001b[39m \u001b[43m        \u001b[49m\u001b[43mv\u001b[49m\u001b[43m,\u001b[49m\u001b[43m \u001b[49m\u001b[43mcopy\u001b[49m\u001b[43m=\u001b[49m\u001b[38;5;28;43;01mFalse\u001b[39;49;00m\u001b[43m,\u001b[49m\u001b[43m \u001b[49m\u001b[43mindex\u001b[49m\u001b[43m=\u001b[49m\u001b[38;5;28;43mself\u001b[39;49m\u001b[43m.\u001b[49m\u001b[43mindex\u001b[49m\u001b[43m,\u001b[49m\u001b[43m \u001b[49m\u001b[43mname\u001b[49m\u001b[43m=\u001b[49m\u001b[43mk\u001b[49m\u001b[43m,\u001b[49m\u001b[43m \u001b[49m\u001b[43mdtype\u001b[49m\u001b[43m=\u001b[49m\u001b[38;5;28;43mself\u001b[39;49m\u001b[43m.\u001b[49m\u001b[43mdtypes\u001b[49m\u001b[43m[\u001b[49m\u001b[43mk\u001b[49m\u001b[43m]\u001b[49m\n\u001b[32m    662\u001b[39m \u001b[43m    \u001b[49m\u001b[43m)\u001b[49m.__finalize__(\u001b[38;5;28mself\u001b[39m)\n\u001b[32m    663\u001b[39m     \u001b[38;5;28;01mfor\u001b[39;00m k, v \u001b[38;5;129;01min\u001b[39;00m \u001b[38;5;28mzip\u001b[39m(\u001b[38;5;28mself\u001b[39m.columns, \u001b[38;5;28mself\u001b[39m._iter_column_arrays())\n\u001b[32m    664\u001b[39m     \u001b[38;5;28;01mif\u001b[39;00m \u001b[38;5;129;01mnot\u001b[39;00m \u001b[38;5;28misinstance\u001b[39m(k, \u001b[38;5;28mint\u001b[39m)\n\u001b[32m    665\u001b[39m }\n",
      "\u001b[36mFile \u001b[39m\u001b[32m~/Desktop/Learning/CAPSTONE PROJECTS/ask_my_shipment/shipment_rag_venv/lib/python3.12/site-packages/pandas/core/series.py:493\u001b[39m, in \u001b[36mSeries.__init__\u001b[39m\u001b[34m(self, data, index, dtype, name, copy, fastpath)\u001b[39m\n\u001b[32m    490\u001b[39m     index = ensure_index(index)\n\u001b[32m    492\u001b[39m \u001b[38;5;28;01mif\u001b[39;00m dtype \u001b[38;5;129;01mis\u001b[39;00m \u001b[38;5;129;01mnot\u001b[39;00m \u001b[38;5;28;01mNone\u001b[39;00m:\n\u001b[32m--> \u001b[39m\u001b[32m493\u001b[39m     dtype = \u001b[38;5;28;43mself\u001b[39;49m\u001b[43m.\u001b[49m\u001b[43m_validate_dtype\u001b[49m\u001b[43m(\u001b[49m\u001b[43mdtype\u001b[49m\u001b[43m)\u001b[49m\n\u001b[32m    495\u001b[39m \u001b[38;5;28;01mif\u001b[39;00m data \u001b[38;5;129;01mis\u001b[39;00m \u001b[38;5;28;01mNone\u001b[39;00m:\n\u001b[32m    496\u001b[39m     index = index \u001b[38;5;28;01mif\u001b[39;00m index \u001b[38;5;129;01mis\u001b[39;00m \u001b[38;5;129;01mnot\u001b[39;00m \u001b[38;5;28;01mNone\u001b[39;00m \u001b[38;5;28;01melse\u001b[39;00m default_index(\u001b[32m0\u001b[39m)\n",
      "\u001b[36mFile \u001b[39m\u001b[32m~/Desktop/Learning/CAPSTONE PROJECTS/ask_my_shipment/shipment_rag_venv/lib/python3.12/site-packages/pandas/core/generic.py:516\u001b[39m, in \u001b[36mNDFrame._validate_dtype\u001b[39m\u001b[34m(cls, dtype)\u001b[39m\n\u001b[32m    514\u001b[39m \u001b[38;5;250m\u001b[39m\u001b[33;03m\"\"\"validate the passed dtype\"\"\"\u001b[39;00m\n\u001b[32m    515\u001b[39m \u001b[38;5;28;01mif\u001b[39;00m dtype \u001b[38;5;129;01mis\u001b[39;00m \u001b[38;5;129;01mnot\u001b[39;00m \u001b[38;5;28;01mNone\u001b[39;00m:\n\u001b[32m--> \u001b[39m\u001b[32m516\u001b[39m     dtype = \u001b[43mpandas_dtype\u001b[49m\u001b[43m(\u001b[49m\u001b[43mdtype\u001b[49m\u001b[43m)\u001b[49m\n\u001b[32m    518\u001b[39m     \u001b[38;5;66;03m# a compound dtype\u001b[39;00m\n\u001b[32m    519\u001b[39m     \u001b[38;5;28;01mif\u001b[39;00m dtype.kind == \u001b[33m\"\u001b[39m\u001b[33mV\u001b[39m\u001b[33m\"\u001b[39m:\n",
      "\u001b[36mFile \u001b[39m\u001b[32m~/Desktop/Learning/CAPSTONE PROJECTS/ask_my_shipment/shipment_rag_venv/lib/python3.12/site-packages/pandas/core/dtypes/common.py:1684\u001b[39m, in \u001b[36mpandas_dtype\u001b[39m\u001b[34m(dtype)\u001b[39m\n\u001b[32m   1682\u001b[39m     \u001b[38;5;28;01mreturn\u001b[39;00m npdtype\n\u001b[32m   1683\u001b[39m \u001b[38;5;28;01melif\u001b[39;00m npdtype.kind == \u001b[33m\"\u001b[39m\u001b[33mO\u001b[39m\u001b[33m\"\u001b[39m:\n\u001b[32m-> \u001b[39m\u001b[32m1684\u001b[39m     \u001b[38;5;28;01mraise\u001b[39;00m \u001b[38;5;167;01mTypeError\u001b[39;00m(\u001b[33mf\u001b[39m\u001b[33m\"\u001b[39m\u001b[33mdtype \u001b[39m\u001b[33m'\u001b[39m\u001b[38;5;132;01m{\u001b[39;00mdtype\u001b[38;5;132;01m}\u001b[39;00m\u001b[33m'\u001b[39m\u001b[33m not understood\u001b[39m\u001b[33m\"\u001b[39m)\n\u001b[32m   1686\u001b[39m \u001b[38;5;28;01mreturn\u001b[39;00m npdtype\n",
      "\u001b[31mTypeError\u001b[39m: dtype 'period    int64\nperiod    int64\ndtype: object' not understood"
     ]
    }
   ],
   "source": [
    "from app.utils import answer\n",
    "\n",
    "question = \"Which country has the highest total value of shipments in 2023?\"\n",
    "out = answer(question= question)\n"
   ]
  },
  {
   "cell_type": "code",
   "execution_count": null,
   "id": "8020117e",
   "metadata": {},
   "outputs": [
    {
     "data": {
      "text/html": [
       "<div>\n",
       "<style scoped>\n",
       "    .dataframe tbody tr th:only-of-type {\n",
       "        vertical-align: middle;\n",
       "    }\n",
       "\n",
       "    .dataframe tbody tr th {\n",
       "        vertical-align: top;\n",
       "    }\n",
       "\n",
       "    .dataframe thead th {\n",
       "        text-align: right;\n",
       "    }\n",
       "</style>\n",
       "<table border=\"1\" class=\"dataframe\">\n",
       "  <thead>\n",
       "    <tr style=\"text-align: right;\">\n",
       "      <th></th>\n",
       "      <th>reporterdesc</th>\n",
       "      <th>value</th>\n",
       "    </tr>\n",
       "  </thead>\n",
       "  <tbody>\n",
       "  </tbody>\n",
       "</table>\n",
       "</div>"
      ],
      "text/plain": [
       "Empty DataFrame\n",
       "Columns: [reporterdesc, value]\n",
       "Index: []"
      ]
     },
     "execution_count": 2,
     "metadata": {},
     "output_type": "execute_result"
    }
   ],
   "source": [
    "out['df']"
   ]
  },
  {
   "cell_type": "code",
   "execution_count": null,
   "id": "b4862f00",
   "metadata": {},
   "outputs": [],
   "source": []
  },
  {
   "cell_type": "code",
   "execution_count": null,
   "id": "2e245b58",
   "metadata": {},
   "outputs": [],
   "source": []
  },
  {
   "cell_type": "code",
   "execution_count": null,
   "id": "06176cbe",
   "metadata": {},
   "outputs": [],
   "source": []
  }
 ],
 "metadata": {
  "kernelspec": {
   "display_name": "shipment_rag_venv",
   "language": "python",
   "name": "python3"
  },
  "language_info": {
   "codemirror_mode": {
    "name": "ipython",
    "version": 3
   },
   "file_extension": ".py",
   "mimetype": "text/x-python",
   "name": "python",
   "nbconvert_exporter": "python",
   "pygments_lexer": "ipython3",
   "version": "3.12.9"
  }
 },
 "nbformat": 4,
 "nbformat_minor": 5
}
